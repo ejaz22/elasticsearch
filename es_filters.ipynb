{
 "cells": [
  {
   "cell_type": "markdown",
   "metadata": {},
   "source": [
    "## Filtered query vs Filter\n",
    "\n",
    "\n",
    "The filter is used when the matched documents need to be shown in the result, while must_not is used when the matched documents will not be shown in the results. For further analysis:\n",
    "\n",
    "__filter:__\n",
    "\n",
    "- It is written in Filter context.\n",
    "- It does not affect the score of the result.\n",
    "- The matched query results will appear in the result.\n",
    "- Exact match based, not partial match.\n",
    "\n",
    "\n",
    "__must_not:__\n",
    "\n",
    "- It is written again on the same filter context.\n",
    "- Which means it will not affect the score of the result.\n",
    "- The documents matched with this condition will NOT appear in the result.\n",
    "- Exact match based.\n",
    "\n",
    "```json\n",
    "{\n",
    "  \"query\":{\n",
    "    \"filtered\":{\n",
    "      \"query\":{\n",
    "        \"term\":{\"title\":\"kitchen3\"}\n",
    "      },\n",
    "      \"filter\":{\n",
    "        \"term\":{\"price\":1000}\n",
    "      }\n",
    "    }\n",
    "  }\n",
    "}\n",
    "```\n",
    "\n",
    "__Case 2__\n",
    "\n",
    "```json\n",
    "\n",
    "{\n",
    "  \"query\":{\n",
    "    \"term\":{\"title\":\"kitchen3\"}\n",
    "  },\n",
    "  \"filter\":{\n",
    "    \"term\":{\"price\":1000}\n",
    "  }\n",
    "}\n",
    "```"
   ]
  },
  {
   "cell_type": "code",
   "execution_count": null,
   "metadata": {},
   "outputs": [],
   "source": []
  }
 ],
 "metadata": {
  "kernelspec": {
   "display_name": "Python 3",
   "language": "python",
   "name": "python3"
  },
  "language_info": {
   "codemirror_mode": {
    "name": "ipython",
    "version": 3
   },
   "file_extension": ".py",
   "mimetype": "text/x-python",
   "name": "python",
   "nbconvert_exporter": "python",
   "pygments_lexer": "ipython3",
   "version": "3.7.6"
  }
 },
 "nbformat": 4,
 "nbformat_minor": 4
}
